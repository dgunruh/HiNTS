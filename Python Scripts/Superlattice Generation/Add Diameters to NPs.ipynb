{
 "cells": [
  {
   "cell_type": "code",
   "execution_count": 1,
   "metadata": {
    "collapsed": true
   },
   "outputs": [],
   "source": [
    "import numpy as np\n",
    "from tkinter import Tk\n",
    "from tkinter.filedialog import askdirectory"
   ]
  },
  {
   "cell_type": "code",
   "execution_count": 2,
   "metadata": {},
   "outputs": [
    {
     "data": {
      "text/plain": [
       "''"
      ]
     },
     "execution_count": 2,
     "metadata": {},
     "output_type": "execute_result"
    }
   ],
   "source": [
    "root = Tk()\n",
    "dirname = askdirectory(initialdir=os.getcwd(),title='Please select a directory')\n",
    "\n",
    "f = open(filename,'r')\n",
    "write_filename = filename[:-4] + '2.txt'\n",
    "g = open(write_filename,'w+')\n",
    "\n",
    "root.withdraw()"
   ]
  },
  {
   "cell_type": "code",
   "execution_count": 3,
   "metadata": {
    "collapsed": true
   },
   "outputs": [],
   "source": [
    "index = 1;\n",
    "xList = []\n",
    "yList = []\n",
    "zList = []\n",
    "dList = []\n",
    "indexList = []\n",
    "outputList = []\n",
    "\n",
    "max_d = 6.8\n",
    "min_d = 3.0\n",
    "ligand_length = 0.1\n",
    "\n",
    "\n",
    "for line in f:\n",
    "    if index > 1:\n",
    "        newline = line.split()\n",
    "        indexList.append(newline[0:3])\n",
    "        xList.append(float(newline[3]))\n",
    "        yList.append(float(newline[4]))\n",
    "        zList.append(float(newline[5]))\n",
    "        dList.append(np.asarray([float(newline[3]),float(newline[4]), float(newline[5])]))\n",
    "    else:\n",
    "        g.write(line)\n",
    "    index += 1\n",
    "f.close()\n",
    "\n",
    "xArray = np.asarray(xList)\n",
    "yArray = np.asarray(yList)\n",
    "zArray = np.asarray(zList)\n",
    "dArray = np.asarray(dList)\n",
    "\n",
    "for counter, i in enumerate(dArray):\n",
    "    if(counter > 0):\n",
    "        cc1 = i[:3] - dArray[:(counter),:3]\n",
    "        dist1 = np.linalg.norm(cc1,axis = 1)\n",
    "        min1 = np.amin(dist1)\n",
    "    else:\n",
    "        min1 = 100\n",
    "        \n",
    "    if(counter < len(dArray) - 1):\n",
    "        cc2 = i[:3] - dArray[(counter+1):,:3]\n",
    "        dist2 = np.linalg.norm(cc2,axis = 1)\n",
    "        min2 = np.amin(dist2)\n",
    "    else:\n",
    "        min2 = 100\n",
    "    \n",
    "    diameter = (min1 - 2*ligand_length) if min1 <= min2 else (min2-2*ligand_length)\n",
    "    if(diameter > max_d):\n",
    "        diameter = max_d\n",
    "    if(diameter < min_d):\n",
    "        diameter = min_d\n",
    "    output = indexList[counter]\n",
    "    output.extend(dArray[counter].tolist())\n",
    "    output.append(diameter)\n",
    "    outputList.append(output)\n",
    "\n",
    "for i in outputList:\n",
    "    line = \" \".join(map(str, i)) + \"\\r\"\n",
    "    g.write(line)\n",
    "g.close()\n",
    "f.close()"
   ]
  },
  {
   "cell_type": "code",
   "execution_count": 4,
   "metadata": {},
   "outputs": [
    {
     "name": "stdout",
     "output_type": "stream",
     "text": [
      "[0]\n",
      "[2 3 4 5]\n"
     ]
    }
   ],
   "source": [
    "import numpy as np\n",
    "mylist = [0,1,2,3,4,5]\n",
    "array = np.asarray(mylist)\n",
    "counter = 1\n",
    "print(array[:counter])\n",
    "print(array[(counter+1):])"
   ]
  }
 ],
 "metadata": {
  "kernelspec": {
   "display_name": "Python 3",
   "language": "python",
   "name": "python3"
  },
  "language_info": {
   "codemirror_mode": {
    "name": "ipython",
    "version": 3
   },
   "file_extension": ".py",
   "mimetype": "text/x-python",
   "name": "python",
   "nbconvert_exporter": "python",
   "pygments_lexer": "ipython3",
   "version": "3.6.3"
  }
 },
 "nbformat": 4,
 "nbformat_minor": 2
}
