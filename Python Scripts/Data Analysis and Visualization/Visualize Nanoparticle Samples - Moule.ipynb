{
 "cells": [
  {
   "cell_type": "code",
   "execution_count": 2,
   "metadata": {},
   "outputs": [],
   "source": [
    "import numpy as np\n",
    "from mayavi import mlab\n",
    "from tkinter import Tk\n",
    "from tkinter.filedialog import askopenfilename"
   ]
  },
  {
   "cell_type": "code",
   "execution_count": 4,
   "metadata": {},
   "outputs": [],
   "source": [
    "root = Tk()\n",
    "filename = askopenfilename()\n",
    "f = open(filename,'r')\n",
    "\n",
    "root.withdraw()\n",
    "\n",
    "index = 1;\n",
    "xList = []\n",
    "yList = []\n",
    "zList = []\n",
    "dList = []\n",
    "\n",
    "\n",
    "for line in f:\n",
    "    if index > 6:\n",
    "        newline = line.split(' ')\n",
    "        xList.append(float(newline[3]))\n",
    "        yList.append(float(newline[4]))\n",
    "        zList.append(float(newline[5]))\n",
    "        dList.append(float(newline[6]))\n",
    "    index += 1\n",
    "f.close()\n",
    "\n",
    "xArray = np.asarray(xList)\n",
    "yArray = np.asarray(yList)\n",
    "zArray = np.asarray(zList)\n",
    "dArray = np.asarray(dList)\n",
    "\n",
    "pts = mlab.points3d(xArray,yArray,zArray,dArray,scale_factor = 1,colormap='coolwarm')\n",
    "#pts.module_manager.scalar_lut_manager.reverse_lut = True\n",
    "mlab.scalarbar(title = 'Diameter (nm)',nb_labels = 5,orientation = 'vertical')\n",
    "mlab.show()"
   ]
  },
  {
   "cell_type": "code",
   "execution_count": 5,
   "metadata": {},
   "outputs": [
    {
     "ename": "ValueError",
     "evalue": "0 is not in list",
     "output_type": "error",
     "traceback": [
      "\u001b[1;31m---------------------------------------------------------------------------\u001b[0m",
      "\u001b[1;31mValueError\u001b[0m                                Traceback (most recent call last)",
      "\u001b[1;32m<ipython-input-5-46a8bd50da42>\u001b[0m in \u001b[0;36m<module>\u001b[1;34m()\u001b[0m\n\u001b[0;32m     36\u001b[0m         \u001b[0mindex2\u001b[0m \u001b[1;33m=\u001b[0m \u001b[0mint\u001b[0m\u001b[1;33m(\u001b[0m\u001b[0mnewline\u001b[0m\u001b[1;33m[\u001b[0m\u001b[1;36m1\u001b[0m\u001b[1;33m]\u001b[0m\u001b[1;33m)\u001b[0m\u001b[1;33m\u001b[0m\u001b[0m\n\u001b[0;32m     37\u001b[0m \u001b[1;33m\u001b[0m\u001b[0m\n\u001b[1;32m---> 38\u001b[1;33m         \u001b[0mlistIndex1\u001b[0m \u001b[1;33m=\u001b[0m \u001b[0midList\u001b[0m\u001b[1;33m.\u001b[0m\u001b[0mindex\u001b[0m\u001b[1;33m(\u001b[0m\u001b[0mindex1\u001b[0m\u001b[1;33m)\u001b[0m\u001b[1;33m\u001b[0m\u001b[0m\n\u001b[0m\u001b[0;32m     39\u001b[0m         \u001b[0mlistIndex2\u001b[0m \u001b[1;33m=\u001b[0m \u001b[0midList\u001b[0m\u001b[1;33m.\u001b[0m\u001b[0mindex\u001b[0m\u001b[1;33m(\u001b[0m\u001b[0mindex2\u001b[0m\u001b[1;33m)\u001b[0m\u001b[1;33m\u001b[0m\u001b[0m\n\u001b[0;32m     40\u001b[0m \u001b[1;33m\u001b[0m\u001b[0m\n",
      "\u001b[1;31mValueError\u001b[0m: 0 is not in list"
     ]
    }
   ],
   "source": [
    "root = Tk()\n",
    "filename = askopenfilename()\n",
    "f = open(filename,'r')\n",
    "filename = askopenfilename()\n",
    "g = open(filename,'r')\n",
    "\n",
    "root.withdraw()\n",
    "\n",
    "index = 1;\n",
    "idList = []\n",
    "xList = []\n",
    "yList = []\n",
    "zList = []\n",
    "dList = []\n",
    "\n",
    "average_d = 6.4\n",
    "\n",
    "\n",
    "for line in f:\n",
    "    if index > 4:\n",
    "        newline = line.split()\n",
    "        idList.append(int(newline[0]))\n",
    "        xList.append(float(newline[3]))\n",
    "        yList.append(float(newline[4]))\n",
    "        zList.append(float(newline[5]))\n",
    "        dList.append(float(newline[6]))\n",
    "    index += 1\n",
    "f.close()\n",
    "mlab.figure(bgcolor = (1,1,1), fgcolor = (0,0,0))\n",
    "index = 1\n",
    "black = (0,0,0)\n",
    "for line in g:\n",
    "    if index > 1:\n",
    "        newline = line.split()\n",
    "        index1 = int(newline[0])\n",
    "        index2 = int(newline[1])\n",
    "        \n",
    "        listIndex1 = idList.index(index1)\n",
    "        listIndex2 = idList.index(index2)\n",
    "        \n",
    "        xDiff = [xList[listIndex1], xList[listIndex2]]\n",
    "        yDiff = [yList[listIndex1], yList[listIndex2]]\n",
    "        zDiff = [zList[listIndex1], zList[listIndex2]]\n",
    "        \n",
    "        mlab.plot3d(xDiff, yDiff, zDiff, colormap='gray', tube_radius=1.0)\n",
    "    index += 1\n",
    "g.close()\n",
    "        \n",
    "xArray = np.asarray(xList)\n",
    "yArray = np.asarray(yList)\n",
    "zArray = np.asarray(zList)\n",
    "dArray = np.asarray(dList)\n",
    "\n",
    "zL = 36.8\n",
    "zR = 126.4\n",
    "ndist_thr = 1.27\n",
    "#for n,i in enumerate(xList):\n",
    "    #if yList[n] - dList[n]/2 <= (zL + ndist_thr) or yList[n] + dList[n]/2 >= (zR - ndist_thr):\n",
    "        #mlab.points3d(xArray[n],yArray[n],zArray[n],dArray[n],scale_factor = 1,color=black)\n",
    "    #else:\n",
    "    #mlab.points3d(xArray[n],yArray[n],zArray[n],dArray[n],scale_factor = 1,colormap='coolwarm')\n",
    "#pts.module_manager.scalar_lut_manager.reverse_lut = True\n",
    "mlab.points3d(xArray,yArray,zArray,dArray,scale_factor = 1,colormap='coolwarm')\n",
    "lut_manager = mlab.scalarbar(title = 'Diameter (nm)',nb_labels = 5,orientation = 'vertical')\n",
    "lut_manager.data_range = (6, 7)\n",
    "#mlab.outline()\n",
    "mlab.show()"
   ]
  },
  {
   "cell_type": "code",
   "execution_count": null,
   "metadata": {
    "collapsed": true
   },
   "outputs": [],
   "source": []
  }
 ],
 "metadata": {
  "@webio": {
   "lastCommId": null,
   "lastKernelId": null
  },
  "kernelspec": {
   "display_name": "Python [conda env:old_qt]",
   "language": "python",
   "name": "conda-env-old_qt-py"
  },
  "language_info": {
   "codemirror_mode": {
    "name": "ipython",
    "version": 3
   },
   "file_extension": ".py",
   "mimetype": "text/x-python",
   "name": "python",
   "nbconvert_exporter": "python",
   "pygments_lexer": "ipython3",
   "version": "3.5.5"
  }
 },
 "nbformat": 4,
 "nbformat_minor": 2
}
