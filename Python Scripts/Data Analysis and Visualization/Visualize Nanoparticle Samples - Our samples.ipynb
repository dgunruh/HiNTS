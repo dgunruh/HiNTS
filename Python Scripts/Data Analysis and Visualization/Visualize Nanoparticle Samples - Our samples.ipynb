{
 "cells": [
  {
   "cell_type": "code",
   "execution_count": 1,
   "metadata": {
    "collapsed": true
   },
   "outputs": [],
   "source": [
    "import numpy as np\n",
    "from mayavi import mlab\n",
    "from tkinter import Tk\n",
    "from tkinter import filedialog\n",
    "from tkinter.filedialog import askopenfilename\n",
    "import matplotlib.pyplot as plt\n",
    "import os\n",
    "from __future__ import print_function"
   ]
  },
  {
   "cell_type": "code",
   "execution_count": 14,
   "metadata": {
    "collapsed": true
   },
   "outputs": [],
   "source": [
    "root = Tk()\n",
    "filename = askopenfilename()\n",
    "f = open(filename,'r')\n",
    "\n",
    "root.withdraw()\n",
    "\n",
    "index = 1;\n",
    "idList = []\n",
    "xList = []\n",
    "yList = []\n",
    "zList = []\n",
    "dList = []\n",
    "\n",
    "\n",
    "for line in f:\n",
    "    if index > 6:\n",
    "        newline = line.split(', ')\n",
    "        xList.append(float(newline[0]))\n",
    "        yList.append(float(newline[1]))\n",
    "        zList.append(float(newline[2]))\n",
    "        dList.append(float(newline[3]))\n",
    "    index += 1\n",
    "f.close()\n",
    "black = (0,0,0)\n",
    "white = (1,1,1)\n",
    "mlab.figure(bgcolor = white, fgcolor = black)\n",
    "\n",
    "xArray = np.asarray(xList)\n",
    "yArray = np.asarray(yList)\n",
    "zArray = np.asarray(zList)\n",
    "dArray = np.asarray(dList)\n",
    "mlab.points3d(xArray,yArray,zArray,dArray,scale_factor = 1,colormap='coolwarm')\n",
    "lut_manager = mlab.scalarbar(title = 'Diameter (nm)',nb_labels = 5,orientation = 'vertical')\n",
    "lut_manager.data_range = (5, 7)\n",
    "mlab.show()"
   ]
  },
  {
   "cell_type": "code",
   "execution_count": 10,
   "metadata": {},
   "outputs": [
    {
     "ename": "NameError",
     "evalue": "name 'plt' is not defined",
     "output_type": "error",
     "traceback": [
      "\u001b[1;31m---------------------------------------------------------------------------\u001b[0m",
      "\u001b[1;31mNameError\u001b[0m                                 Traceback (most recent call last)",
      "\u001b[1;32m<ipython-input-10-7d9299b4edaf>\u001b[0m in \u001b[0;36m<module>\u001b[1;34m()\u001b[0m\n\u001b[0;32m     28\u001b[0m \u001b[0mcount\u001b[0m\u001b[1;33m,\u001b[0m \u001b[0mbins\u001b[0m \u001b[1;33m=\u001b[0m \u001b[0mnp\u001b[0m\u001b[1;33m.\u001b[0m\u001b[0mhistogram\u001b[0m\u001b[1;33m(\u001b[0m\u001b[0mdArray\u001b[0m\u001b[1;33m,\u001b[0m \u001b[1;34m'fd'\u001b[0m\u001b[1;33m)\u001b[0m\u001b[1;33m\u001b[0m\u001b[0m\n\u001b[0;32m     29\u001b[0m \u001b[0mcenters\u001b[0m \u001b[1;33m=\u001b[0m \u001b[1;33m[\u001b[0m\u001b[1;33m(\u001b[0m\u001b[0mi\u001b[0m \u001b[1;33m+\u001b[0m \u001b[0mbins\u001b[0m\u001b[1;33m[\u001b[0m\u001b[0mn\u001b[0m\u001b[1;33m]\u001b[0m\u001b[1;33m)\u001b[0m\u001b[1;33m/\u001b[0m\u001b[1;36m2\u001b[0m \u001b[1;32mfor\u001b[0m \u001b[0mn\u001b[0m\u001b[1;33m,\u001b[0m \u001b[0mi\u001b[0m \u001b[1;32min\u001b[0m \u001b[0menumerate\u001b[0m\u001b[1;33m(\u001b[0m\u001b[0mbins\u001b[0m\u001b[1;33m[\u001b[0m\u001b[1;36m1\u001b[0m\u001b[1;33m:\u001b[0m\u001b[1;33m]\u001b[0m\u001b[1;33m)\u001b[0m\u001b[1;33m]\u001b[0m\u001b[1;33m\u001b[0m\u001b[0m\n\u001b[1;32m---> 30\u001b[1;33m \u001b[0mplt\u001b[0m\u001b[1;33m.\u001b[0m\u001b[0mhist\u001b[0m\u001b[1;33m(\u001b[0m\u001b[0mdArray\u001b[0m\u001b[1;33m,\u001b[0m\u001b[0mbins\u001b[0m \u001b[1;33m=\u001b[0m \u001b[0mlen\u001b[0m\u001b[1;33m(\u001b[0m\u001b[0mcenters\u001b[0m\u001b[1;33m)\u001b[0m\u001b[1;33m)\u001b[0m\u001b[1;33m\u001b[0m\u001b[0m\n\u001b[0m\u001b[0;32m     31\u001b[0m \u001b[0mplt\u001b[0m\u001b[1;33m.\u001b[0m\u001b[0mylabel\u001b[0m\u001b[1;33m(\u001b[0m\u001b[1;34m\"Count\"\u001b[0m\u001b[1;33m)\u001b[0m\u001b[1;33m\u001b[0m\u001b[0m\n\u001b[0;32m     32\u001b[0m \u001b[0mplt\u001b[0m\u001b[1;33m.\u001b[0m\u001b[0mxlabel\u001b[0m\u001b[1;33m(\u001b[0m\u001b[1;34m\"Diameter (nm)\"\u001b[0m\u001b[1;33m)\u001b[0m\u001b[1;33m\u001b[0m\u001b[0m\n",
      "\u001b[1;31mNameError\u001b[0m: name 'plt' is not defined"
     ]
    }
   ],
   "source": [
    "root = Tk()\n",
    "filename = askopenfilename()\n",
    "f = open(filename,'r')\n",
    "\n",
    "root.withdraw()\n",
    "\n",
    "index = 1;\n",
    "idList = []\n",
    "xList = []\n",
    "yList = []\n",
    "zList = []\n",
    "dList = []\n",
    "\n",
    "\n",
    "for line in f:\n",
    "    if index > 6:\n",
    "        newline = line.split(', ')\n",
    "        #idList.append(int(newline[0]))\n",
    "        xList.append(float(newline[0]))\n",
    "        yList.append(float(newline[1]))\n",
    "        zList.append(float(newline[2]))\n",
    "        dList.append(float(newline[3]))\n",
    "    index += 1\n",
    "f.close()\n",
    "\n",
    "dArray = np.asarray(dList)\n",
    "#plot the default data\n",
    "count, bins = np.histogram(dArray, 'fd')\n",
    "centers = [(i + bins[n])/2 for n, i in enumerate(bins[1:])]\n",
    "plt.hist(dArray,bins = len(centers))\n",
    "plt.ylabel(\"Count\")\n",
    "plt.xlabel(\"Diameter (nm)\")\n",
    "plt.show()"
   ]
  },
  {
   "cell_type": "code",
   "execution_count": null,
   "metadata": {
    "collapsed": true
   },
   "outputs": [],
   "source": []
  }
 ],
 "metadata": {
  "@webio": {
   "lastCommId": null,
   "lastKernelId": null
  },
  "kernelspec": {
   "display_name": "Python [conda env:old_qt]",
   "language": "python",
   "name": "conda-env-old_qt-py"
  },
  "language_info": {
   "codemirror_mode": {
    "name": "ipython",
    "version": 3
   },
   "file_extension": ".py",
   "mimetype": "text/x-python",
   "name": "python",
   "nbconvert_exporter": "python",
   "pygments_lexer": "ipython3",
   "version": "3.5.5"
  }
 },
 "nbformat": 4,
 "nbformat_minor": 2
}
