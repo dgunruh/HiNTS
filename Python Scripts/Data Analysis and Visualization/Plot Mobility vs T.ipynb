{
 "cells": [
  {
   "cell_type": "code",
   "execution_count": 85,
   "metadata": {
    "collapsed": true
   },
   "outputs": [],
   "source": [
    "import matplotlib.pyplot as plt\n",
    "import numpy as np\n",
    "from tkinter import Tk\n",
    "from tkinter import filedialog as fd\n",
    "import os\n",
    "from scipy.optimize import curve_fit\n",
    "from scipy.optimize import brute\n",
    "from scipy import asarray as ar,exp\n",
    "import math"
   ]
  },
  {
   "cell_type": "code",
   "execution_count": 14,
   "metadata": {
    "collapsed": true
   },
   "outputs": [],
   "source": [
    "#return a bool indicating if a string can be represented numerically\n",
    "def is_number(s):\n",
    "    try:\n",
    "        float(s)\n",
    "        return True\n",
    "    except ValueError:\n",
    "        return False"
   ]
  },
  {
   "cell_type": "code",
   "execution_count": 56,
   "metadata": {},
   "outputs": [],
   "source": [
    "def exponential(x, energy, mu_0):\n",
    "    return mu_0*np.subtract(1, exp(-energy/x))"
   ]
  },
  {
   "cell_type": "code",
   "execution_count": 88,
   "metadata": {},
   "outputs": [
    {
     "name": "stdout",
     "output_type": "stream",
     "text": [
      "[  8.617  17.234  25.851]\n",
      "[  8.617  17.234  25.851]\n",
      "[  8.617  17.234  25.851]\n"
     ]
    },
    {
     "data": {
      "image/png": "[encoded data removed]",
      "text/plain": [
       "<Figure size 432x288 with 1 Axes>"
      ]
     },
     "metadata": {},
     "output_type": "display_data"
    }
   ],
   "source": [
    "k = 8.617e-2\n",
    "\n",
    "root = Tk()\n",
    "folder_selected = fd.askdirectory(title = \"Choose the folder containing the results\")\n",
    "#f = open(filename,'r')\n",
    "root.withdraw()\n",
    "\n",
    "results = []\n",
    "temperature = []\n",
    "for file in os.listdir(folder_selected):\n",
    "    if file[-4:] == '.txt':\n",
    "        f = open(folder_selected + '/' + file)\n",
    "        results.append([])\n",
    "        #splitFileName = file.split(\"_\",2)\n",
    "        temperature.append(float(file.split(\"_\",3)[3].split(\"K\")[0]))\n",
    "\n",
    "        for line in f:\n",
    "            lineContents = line.split()\n",
    "            if is_number(lineContents[1]):\n",
    "                mobility = float(lineContents[1])\n",
    "                results[-1].append(mobility)\n",
    "        \n",
    "temperatureArray = k*np.asarray(temperature)\n",
    "resultsArray = np.asarray(results)\n",
    "averageResults = np.mean(resultsArray,axis=1)\n",
    "stdResults = np.divide(np.std(resultsArray,axis = 1),math.sqrt(50))\n",
    "sort = np.argsort(temperatureArray)\n",
    "plt.errorbar(temperatureArray[sort], averageResults[sort],linestyle = \"--\", yerr=stdResults[sort], capsize = 3.0, label = \"D = 0 meV\")\n",
    "temp = np.arange(50,300,5)\n",
    "\n",
    "root = Tk()\n",
    "folder_selected = fd.askdirectory(title = \"Choose the folder containing the other results\")\n",
    "root.withdraw()\n",
    "for file in os.listdir(folder_selected):\n",
    "    if file[-4:] == '.txt':\n",
    "        f = open(folder_selected + '/' + file)\n",
    "        T = []\n",
    "        μ = []\n",
    "        σ = []\n",
    "        index = 1\n",
    "        for line in f:\n",
    "            if index > 1:\n",
    "                newline = line.split()\n",
    "                T.append(float(newline[0]))\n",
    "                μ.append(float(newline[1]))\n",
    "                σ.append(float(newline[2]))\n",
    "            index += 1\n",
    "        T_array = k*np.asarray(T)\n",
    "        μ_array = np.asarray(μ)\n",
    "        σ_array = np.asarray(σ)\n",
    "        tag = file[-9:-4]\n",
    "        print(T_array)\n",
    "        if tag == \"0.2nm\":\n",
    "            disorder = \"6 meV\"\n",
    "        elif tag == \"0.4nm\":\n",
    "            disorder = \"33 meV\"\n",
    "        elif tag == \"0.6nm\":\n",
    "            disorder = \"<48 meV\"\n",
    "        disorderTag = \"D = \" + disorder\n",
    "        plt.errorbar(T_array, μ_array, linestyle = \"--\", yerr = σ_array, capsize = 3.0, label = disorderTag)\n",
    "\n",
    "# popt,pcov = curve_fit(exponential,temperatureArray[sort],averageResults[sort])\n",
    "# energy = popt[0]\n",
    "# mu_0 = popt[1]\n",
    "\n",
    "# print(\"Energy of fit is: \",energy)\n",
    "# print(\"Intercept of fit is: \",mu_0)\n",
    "# plt.plot(temp,exponential(temp,*popt),color = 'red')\n",
    "plt.text(10,1.2,'N = 100 & V = .5 mV',style = 'italic',fontsize = 10,bbox = {'facecolor':'white','pad':10})\n",
    "plt.xlabel(\"Temperature (meV)\")\n",
    "plt.ylabel(\"Average Mobility cm$^2$V$^{-1}$s$^{-1}$\")\n",
    "plt.legend()\n",
    "plt.savefig(folder_selected + '/' + 'MobilityVsT.png', format='png', dpi=1200)\n",
    "plt.show()"
   ]
  },
  {
   "cell_type": "code",
   "execution_count": 34,
   "metadata": {},
   "outputs": [
    {
     "data": {
      "text/plain": [
       "'none'"
      ]
     },
     "execution_count": 34,
     "metadata": {},
     "output_type": "execute_result"
    }
   ],
   "source": [
    "filename[-4:]"
   ]
  },
  {
   "cell_type": "code",
   "execution_count": 62,
   "metadata": {},
   "outputs": [
    {
     "name": "stdout",
     "output_type": "stream",
     "text": [
      "0.000610382625\n",
      "0.0006032131\n"
     ]
    }
   ],
   "source": [
    "e = 1.6e-19\n",
    "kB = 1.38e-23\n",
    "kb = 8.61733e-5\n",
    "voltage = kB*7.0769/e\n",
    "print(voltage)\n",
    "print(70*kb*0.1)"
   ]
  },
  {
   "cell_type": "code",
   "execution_count": null,
   "metadata": {
    "collapsed": true
   },
   "outputs": [],
   "source": []
  }
 ],
 "metadata": {
  "kernelspec": {
   "display_name": "Python 3",
   "language": "python",
   "name": "python3"
  },
  "language_info": {
   "codemirror_mode": {
    "name": "ipython",
    "version": 3
   },
   "file_extension": ".py",
   "mimetype": "text/x-python",
   "name": "python",
   "nbconvert_exporter": "python",
   "pygments_lexer": "ipython3",
   "version": "3.6.3"
  }
 },
 "nbformat": 4,
 "nbformat_minor": 2
}
