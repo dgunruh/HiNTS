{
 "cells": [
  {
   "cell_type": "code",
   "execution_count": 13,
   "metadata": {
    "collapsed": true
   },
   "outputs": [],
   "source": [
    "import numpy as np\n",
    "import numpy.linalg as LA\n",
    "import math\n",
    "import matplotlib.pyplot as plt\n",
    "from matplotlib import rc\n",
    "import scipy.stats as s_stats\n",
    "\n",
    "from scipy.optimize import curve_fit\n",
    "from scipy.optimize import brute\n",
    "from scipy import asarray as ar,exp\n",
    "\n",
    "import scipy.special as sp\n",
    "\n",
    "from scipy.integrate import quad\n",
    "from scipy.integrate import romberg\n",
    "\n",
    "from tkinter import Tk\n",
    "from tkinter import filedialog\n",
    "\n",
    "#other methods to explore:\n",
    "#bayesian blocks (variable bin widths), implemented in astropy\n",
    "#kernel density estimation (implemented in scipy)"
   ]
  },
  {
   "cell_type": "code",
   "execution_count": 2,
   "metadata": {
    "collapsed": true
   },
   "outputs": [],
   "source": [
    "#return a bool indicating if a string can be represented numerically\n",
    "def is_number(s):\n",
    "    try:\n",
    "        float(s)\n",
    "        return True\n",
    "    except ValueError:\n",
    "        return False"
   ]
  },
  {
   "cell_type": "code",
   "execution_count": 3,
   "metadata": {
    "collapsed": true
   },
   "outputs": [],
   "source": [
    "#as an assessment of fit goodness, calculate the Bayesian Information Criterion (BIC)\n",
    "#parameters are the Residual Sum of Squares RSS, number of model parameters k, and number of data points n\n",
    "def calculate_BIC(RSS,k,n):\n",
    "    return n*math.log(RSS/n)+k*math.log(n)"
   ]
  },
  {
   "cell_type": "code",
   "execution_count": 4,
   "metadata": {
    "collapsed": true
   },
   "outputs": [],
   "source": [
    "#read in the mobility values, defect angle, and bisection percentage\n",
    "def readInFilesWithAngles():\n",
    "    #read in the mobility file\n",
    "    root = Tk()\n",
    "    filename = filedialog.askopenfilename(title = \"Choose the mobility file\")\n",
    "    #root.withdraw()\n",
    "    f = open(filename,'r')\n",
    "    #root.withdraw()\n",
    "\n",
    "    mobList = []\n",
    "    for line in f:\n",
    "        newline = line.split()\n",
    "        if is_number(newline[0][0]):\n",
    "            mobList.append([float(newline[1])])  \n",
    "     \n",
    "    #read in the angle file\n",
    "    filename = filedialog.askopenfilename(title = \"Choose the angle file\")\n",
    "    g = open(filename,'r')\n",
    "    root.withdraw()\n",
    "    for counter, line in enumerate(g):\n",
    "        newline = line.split()\n",
    "        mobList[counter].append(float(newline[1]))\n",
    "        mobList[counter].append(float(newline[2][1:-1]))\n",
    "        \n",
    "    return mobList"
   ]
  },
  {
   "cell_type": "code",
   "execution_count": 5,
   "metadata": {
    "collapsed": true
   },
   "outputs": [],
   "source": [
    "#read in the mobility values, defect angle, and bisection percentage\n",
    "def readInFiles():\n",
    "    #read in the mobility file\n",
    "    root = Tk()\n",
    "    filename = filedialog.askopenfilename(title = \"Choose the mobility file\")\n",
    "    #root.withdraw()\n",
    "    f = open(filename,'r')\n",
    "    root.withdraw()\n",
    "\n",
    "    mobList = []\n",
    "    for line in f:\n",
    "        newline = line.split()\n",
    "        if is_number(newline[0][0]):\n",
    "            mobList.append([float(newline[1])])  \n",
    "            \n",
    "    f.close()\n",
    "        \n",
    "    return mobList"
   ]
  },
  {
   "cell_type": "code",
   "execution_count": 41,
   "metadata": {
    "collapsed": true
   },
   "outputs": [],
   "source": [
    "def gausHistFit(resistanceList):\n",
    "    mobilityList = [i[0] for i in resistanceList if i[0] > 0.0]\n",
    "    mobilityArray = np.asarray(mobilityList)\n",
    "    \n",
    "    mean = np.mean(mobilityArray)\n",
    "    sigma = np.std(mobilityArray)\n",
    "    \n",
    "    #plot the default data\n",
    "    count, bins = np.histogram(mobilityList, 'fd')\n",
    "    centers = [(i + bins[n])/2 for n, i in enumerate(bins[1:])]\n",
    "    plt.hist(mobilityList,bins = len(centers), label = 'Data') #ec = 'black'\n",
    "    \n",
    "    def gaus(x,a,x0,sigma):\n",
    "        return a*exp(-(x-x0)**2/(2*sigma**2))\n",
    "\n",
    "    popt,pcov = curve_fit(gaus,centers,count,p0=[1,mean,sigma])\n",
    "\n",
    "    #plt.plot(stored_centers,stored_hist,'b+:',label='data')\n",
    "    plt.plot(centers,gaus(centers,*popt),'ko:',label='Gaussian Fit', alpha = 0.8)\n",
    "    plt.legend()\n",
    "    plt.ylabel(\"Count\")\n",
    "    plt.xlabel(\"Mobility [cm$^2$V$^{-1}$s$^{-1}$]\")\n",
    "    plt.show()\n",
    "    \n",
    "    print(\"Gaussian mean: \",popt[1])\n",
    "    print(\"Gaussian σ: \",popt[2])"
   ]
  },
  {
   "cell_type": "code",
   "execution_count": 7,
   "metadata": {
    "collapsed": true
   },
   "outputs": [],
   "source": [
    "#Try to normalize the data logarithmically via a Box-Cox Normality Transform\n",
    "#The transform is T(y)=(y^lambda-1)/lambda if lambda!=0, T(y)=log(y) if lambda=0\n",
    "#The efficacy of the transform is assessed by measuring the normality of the resulting distribution\n",
    "#This is done by using the scipy.stats.pearsonr method for measuring the pearson coefficient, on the\n",
    "#corresponding normal probability plot\n",
    "\n",
    "def applyBoxCoxTransform(resistanceList):\n",
    "    mobilityList = [i[0] for i in resistanceList if i[0] > 0.0]\n",
    "    \n",
    "    #plot the default data\n",
    "    count, bins = np.histogram(mobilityList, 'fd')\n",
    "    centers = [(i + bins[n])/2 for n, i in enumerate(bins[1:])]\n",
    "    plt.hist(mobilityList,bins = len(centers))\n",
    "    plt.ylabel(\"Count\")\n",
    "    plt.xlabel(\"Mobility\")\n",
    "    plt.title('Raw Data')\n",
    "    plt.show()\n",
    "    \n",
    "    \n",
    "    cList = []\n",
    "    _lambda = -0.5\n",
    "    lambda_array = []\n",
    "    lambdaMax = _lambda\n",
    "    maxR = 0\n",
    "    while _lambda < 5.0:\n",
    "        if not np.isclose(_lambda, 0.0):\n",
    "            T_of_mu = np.asarray([(i**_lambda-1)/_lambda for i in mobilityList])\n",
    "        else:\n",
    "            T_of_mu = np.asarray([math.log(i) for i in mobilityList])\n",
    "        #n_bins = 60\n",
    "        #use the freedman-diaconis rule to calculate number of bins\n",
    "        #Under FD: h = 2*IQR*(n^(-1/3))\n",
    "        hist, bins = np.histogram(T_of_mu, 'fd')\n",
    "        centers = [(i + bins[n])/2 for n, i in enumerate(bins[1:])]\n",
    "\n",
    "        #r_row, p_value = s_stats.pearsonr(hist, centers)\n",
    "\n",
    "        #create the normal probability plot\n",
    "        result = s_stats.probplot(T_of_mu)\n",
    "        (osm,osr) = result[0]\n",
    "        (slope,intercept,r) = result[1]\n",
    "\n",
    "        r_row, p_values = s_stats.pearsonr(osm,osr)\n",
    "        cList.append(r_row)\n",
    "\n",
    "        if r_row > maxR:\n",
    "            maxR = r_row\n",
    "            lambdaMax = _lambda\n",
    "            storedT = T_of_mu\n",
    "            stored_hist = hist\n",
    "            stored_centers = centers\n",
    "\n",
    "\n",
    "        lambda_array.append(_lambda)\n",
    "        _lambda += 0.01\n",
    "    \n",
    "    n_bins = len(stored_centers)\n",
    "    #lambda_array = range(-1,1)\n",
    "    plt.plot(lambda_array,cList)\n",
    "    plt.xlabel(\"lambda\")\n",
    "    plt.ylabel(\"correlation coefficient\")\n",
    "    plt.title('Correlation Coefficient vs. Lambda')\n",
    "    plt.show()\n",
    "    \n",
    "    print('Value of Lambda which maximized the correlation coefficient: %f'%lambdaMax)\n",
    "\n",
    "    plt.hist(storedT,bins = n_bins)\n",
    "    plt.ylabel(\"Count\")\n",
    "    plt.xlabel(\"Mobility\")\n",
    "    plt.title('Transformed Data')\n",
    "    plt.show()\n",
    "\n",
    "    mode_index = np.argmax(stored_hist)\n",
    "    transformMode = stored_centers[mode_index]\n",
    "    transformMean = np.mean(storedT)\n",
    "    transformSigma = np.std(storedT)\n",
    "    transformMedian = np.median(storedT)\n",
    "    print(\"Transform mode is %f\"%transformMode)\n",
    "    print(\"Transform mean is %f\"%transformMean)\n",
    "    print(\"Transform median is %f\"%transformMedian)\n",
    "\n",
    "    normalMode = (lambdaMax*transformMode + 1)**(1/lambdaMax)\n",
    "    normalMean = (lambdaMax*transformMean + 1)**(1/lambdaMax)\n",
    "    normalMedian = (lambdaMax*transformMedian + 1)**(1/lambdaMax)\n",
    "    print(\"Normal mode is %f\"%normalMode)\n",
    "    print(\"Normal mean is %f\"%normalMean)\n",
    "    print(\"Normal median is %f\"%normalMedian)\n",
    "\n",
    "    n = n_bins                                                 #the number of data points\n",
    "    mean = sum(stored_hist*stored_centers)/n                   #note this correction\n",
    "    sigma = sum(stored_hist*(stored_centers-mean)**2)/n        #note this correction\n",
    "\n",
    "    def gaus(x,a,x0,sigma):\n",
    "        return a*exp(-(x-x0)**2/(2*sigma**2))\n",
    "\n",
    "    popt,pcov = curve_fit(gaus,stored_centers,stored_hist,p0=[1,transformMean,transformSigma])\n",
    "\n",
    "    plt.plot(stored_centers,stored_hist,'b+:',label='data')\n",
    "    plt.plot(stored_centers,gaus(stored_centers,*popt),'ro:',label='gaussian fit')\n",
    "    plt.legend()\n",
    "    plt.grid()\n",
    "    plt.xlabel('Mobility')\n",
    "    plt.ylabel('Count')\n",
    "    plt.title('Gaussian Fit of Transformed Data')\n",
    "    plt.show()\n",
    "\n",
    "    gauss_max = stored_centers[np.argmax(gaus(stored_centers,*popt))]\n",
    "    print(gauss_max)\n",
    "    print((lambdaMax*gauss_max + 1)**(1/lambdaMax))"
   ]
  },
  {
   "cell_type": "code",
   "execution_count": 8,
   "metadata": {
    "collapsed": true
   },
   "outputs": [],
   "source": [
    "def lognormalDistFit(resistanceList):\n",
    "    def lognormal(x,mu,sigma,beta):\n",
    "        #mu is the mean of ln(x)\n",
    "        #sigma is the std of ln(x)\n",
    "        #beta scales the distribution's size\n",
    "        #x0 centers the distribution\n",
    "        #return 1/((x-x0)*sigma*math.sqrt(2*math.pi))*exp(-((np.log(x-x0)-mu)**2)/(2*sigma**2))*beta\n",
    "        return 1/((x)*sigma*math.sqrt(2*math.pi))*exp(-((np.log(x)-mu)**2)/(2*sigma**2))*beta\n",
    "    \n",
    "    mobilityList = np.asarray([i[0] for i in resistanceList if i[0] > 0.0])\n",
    "    mean = np.mean(mobilityList)\n",
    "    \n",
    "    #n_bins = 60\n",
    "    #use the freedman-diaconis rule to calculate number of bins\n",
    "    #Under FD: h = 2*IQR*(n^(-1/3))\n",
    "    count, bins = np.histogram(mobilityList, 'fd')\n",
    "    centers = [(i + bins[n])/2 for n, i in enumerate(bins[1:])]\n",
    "    \n",
    "    #normalize the count:\n",
    "    countTotal = sum(count)\n",
    "    normal_count = np.true_divide(count,countTotal)\n",
    "    #normal_count = count\n",
    "    \n",
    "    popt,pcov = curve_fit(lognormal,np.asarray(centers),normal_count,p0=[1,1,1])\n",
    "    mu = popt[0]\n",
    "    sigma = popt[1]\n",
    "\n",
    "    plt.plot(centers,countTotal*normal_count,'b+:',label='data')\n",
    "    plt.plot(centers,countTotal*lognormal(np.asarray(centers),*popt),'ro:',label='fit')\n",
    "    plt.title('LogNormal Distribution')\n",
    "    plt.legend()\n",
    "    plt.grid()\n",
    "    plt.show()\n",
    "    \n",
    "    mean = math.exp(mu+0.5*sigma**2)\n",
    "    median = math.exp(mu)\n",
    "    mode = math.exp(mu-sigma**2)\n",
    "    variance = (math.exp(sigma**2)-1)*math.exp(2*mu+sigma**2)\n",
    "    skewness = (math.exp(sigma**2)+2)*math.sqrt(exp(sigma**2)-1)\n",
    "    print('Mean is: %f'%mean)\n",
    "    print('Median is: %f'%median)\n",
    "    print('Mode is: %f'%mode)\n",
    "    print('Variance is: %f'%variance)\n",
    "    print('Skewness is: %f'%skewness)\n",
    "    print('mu is: %f'%mu)\n",
    "    print('Sigma is: %f'%sigma)\n",
    "    \n",
    "    n = len(centers)\n",
    "    k = 3\n",
    "    difArray= countTotal*normal_count - countTotal*lognormal(np.asarray(centers),*popt)\n",
    "    RSS = np.sum(difArray**2)\n",
    "    BIC = calculate_BIC(RSS,k,n)\n",
    "    print('BIC is: %f'%BIC)"
   ]
  },
  {
   "cell_type": "code",
   "execution_count": 9,
   "metadata": {
    "collapsed": true
   },
   "outputs": [],
   "source": [
    "def weibullFit(resistanceList):\n",
    "    def weibull(x,lam,k,beta):\n",
    "        #lam=lambda is the scale parameter\n",
    "        #k>0 is the shape parameter\n",
    "        #mu is the location offset\n",
    "        #beta scales the distribution's size\n",
    "        return k/lam*(((x)/lam)**(k-1))*exp(-(((x)/lam)**k))/beta\n",
    "    \n",
    "    mobilityList = np.asarray([i[0] for i in resistanceList if i[0] > 0.0])\n",
    "    mean = np.mean(mobilityList)\n",
    "    \n",
    "    #n_bins = 60 \n",
    "    #use the Freedman-Diaconis Rule to calculate the number of bins in the histogram\n",
    "    #Under FD: h = 2*IQR*(n^(-1/3))\n",
    "    count, bins = np.histogram(mobilityList, 'fd')\n",
    "    centers = [(i + bins[n])/2 for n, i in enumerate(bins[1:])]\n",
    "    \n",
    "    #normalize the count:\n",
    "    countTotal = sum(count)\n",
    "    normal_count = np.true_divide(count,countTotal)\n",
    "    #normal_count = count\n",
    "    \n",
    "    popt,pcov = curve_fit(weibull,centers,normal_count,p0=[2,1,1])\n",
    "\n",
    "    plt.plot(centers,countTotal*normal_count,'b+:',label='data')\n",
    "    plt.plot(centers,countTotal*weibull(centers,*popt),'ro:',label='fit')\n",
    "    plt.title('Weibull Distribution')\n",
    "    plt.legend()\n",
    "    plt.grid()\n",
    "    plt.show()\n",
    "    \n",
    "    lam = popt[0]\n",
    "    k = popt[1]\n",
    "    \n",
    "    mean = lam*sp.gamma(1+1/k)\n",
    "    median = lam*(math.log(2))**(1/k)\n",
    "    mode = lam*((k-1)/k)**(1/k)\n",
    "    variance = (lam**2)*(sp.gamma(1+2/k)-(sp.gamma(1+1/k))**2)\n",
    "    std = math.sqrt(variance)\n",
    "    skewness = (sp.gamma(1+3/k)*lam**3-3*mean*std**2 - mean**3)/std**3\n",
    "    \n",
    "    print('Mean is: %f'%mean)\n",
    "    print('Median is: %f'%median)\n",
    "    print('Mode is: %f'%mode)\n",
    "    print('Variance is: %f'%variance)\n",
    "    print('Skewness is: %f'%skewness)\n",
    "    print('Lambda is: %f'%lam)\n",
    "    print('k is: %f'%k)\n",
    "    \n",
    "    #n = n_bins\n",
    "    n = len(centers)\n",
    "    k = 3\n",
    "    difArray= countTotal*normal_count - countTotal*weibull(np.asarray(centers),*popt)\n",
    "    RSS = np.sum(difArray**2)\n",
    "    BIC = calculate_BIC(RSS,k,n)\n",
    "    print('BIC is: %f'%BIC)"
   ]
  },
  {
   "cell_type": "code",
   "execution_count": 10,
   "metadata": {
    "collapsed": true
   },
   "outputs": [],
   "source": [
    "def chiSquareDistFit(resistanceList):\n",
    "    def chiSquare(x,nu,beta):\n",
    "        #print(nu, beta, mu)\n",
    "        return beta*exp(-(x)/2)*((x)**(nu/2 - 1))/((2**(nu/2))*sp.gamma(nu/2))\n",
    "    \n",
    "    mobilityList = np.asarray([i[0] for i in resistanceList if i[0] > 0.0])\n",
    "    \n",
    "    #n_bins = 60\n",
    "    #use the freedman-diaconis rule to calculate number of bins\n",
    "    #Under FD: h = 2*IQR*(n^(-1/3))\n",
    "    count, bins = np.histogram(mobilityList, 'fd')\n",
    "    centers = np.asarray([(i + bins[n])/2 for n, i in enumerate(bins[1:])])\n",
    "    \n",
    "    #normalize the count:\n",
    "    countTotal = sum(count)\n",
    "    normal_count = np.true_divide(count,countTotal)\n",
    "    \n",
    "    \n",
    "    popt,pcov = curve_fit(chiSquare,centers,normal_count,p0=[5,1])\n",
    "\n",
    "    plt.plot(centers,countTotal*normal_count,'b+:',label='data')\n",
    "    plt.plot(centers,countTotal*chiSquare(centers,*popt),'ro:',label='fit')\n",
    "    plt.title('Chi-Square Distribution')\n",
    "    plt.legend()\n",
    "    plt.grid()\n",
    "    plt.show()\n",
    "    \n",
    "    n = len(centers)\n",
    "    k = 2\n",
    "    difArray= countTotal*normal_count - countTotal*chiSquare(np.asarray(centers),*popt)\n",
    "    RSS = np.sum(difArray**2)\n",
    "    BIC = calculate_BIC(RSS,k,n)\n",
    "    print('BIC is: %f'%BIC)"
   ]
  },
  {
   "cell_type": "code",
   "execution_count": 11,
   "metadata": {
    "collapsed": true
   },
   "outputs": [],
   "source": [
    "def gammaDistFit(resistanceList):\n",
    "    #gamma distribution with a location offset and scaling factor scale\n",
    "    def gammaDist(x,g,beta,scale):\n",
    "        return scale*(((x))**(g-1))*1/exp((x)/beta)/((beta**g)*sp.gamma(g))\n",
    "    \n",
    "    mobilityList = np.asarray([i[0] for i in resistanceList if i[0] > 0.0])\n",
    "    \n",
    "    #n_bins = 60\n",
    "    #use the freedman-diaconis rule to calculate number of bins\n",
    "    #Under FD: h = 2*IQR*(n^(-1/3))\n",
    "    count, bins = np.histogram(mobilityList, 'fd')\n",
    "    centers = [(i + bins[n])/2 for n, i in enumerate(bins[1:])]\n",
    "    \n",
    "    #normalize the count:\n",
    "    countTotal = sum(count)\n",
    "    normal_count = np.true_divide(count,countTotal)\n",
    "    \n",
    "    mean = np.mean(mobilityList)\n",
    "    \n",
    "    popt,pcov = curve_fit(gammaDist,centers,normal_count,p0=[2,1,1])\n",
    "\n",
    "    g = popt[0]\n",
    "    beta = popt[1]\n",
    "    #muIndex = popt[2]\n",
    "    scale = popt[2]\n",
    "    \n",
    "    \n",
    "    mean = g*beta\n",
    "    mode = (g-1)*beta\n",
    "    variance = g*(beta)**2\n",
    "    std = math.sqrt(variance)\n",
    "    skewness = 2/math.sqrt(g)\n",
    "    \n",
    "    print('Mean is: %f'%mean)\n",
    "    print('Mode is: %f'%mode)\n",
    "    print('Variance is: %f'%variance)\n",
    "    print('Skewness is: %f'%skewness)\n",
    "    print('g is: %f'%g)\n",
    "    print('beta is: %f'%beta)\n",
    "    \n",
    "    \n",
    "    plt.plot(centers,countTotal*normal_count,'b+:',label='data')\n",
    "    plt.plot(centers,countTotal*gammaDist(centers,*popt),'ro:',label='fit')\n",
    "    plt.title('Gamma Distribution')\n",
    "    plt.legend()\n",
    "    plt.grid()\n",
    "    plt.show()\n",
    "    \n",
    "    n = len(centers)\n",
    "    k = 3\n",
    "    difArray= countTotal*normal_count - countTotal*gammaDist(np.asarray(centers),*popt)\n",
    "    RSS = np.sum(difArray**2)\n",
    "    BIC = calculate_BIC(RSS,k,n)\n",
    "    print('BIC is: %f'%BIC)"
   ]
  },
  {
   "cell_type": "code",
   "execution_count": 12,
   "metadata": {
    "collapsed": true
   },
   "outputs": [],
   "source": [
    "def erlangDistFit(resistanceList):\n",
    "    #erlang distribution\n",
    "    def erlangDist(x,k,lam,scale):\n",
    "        return (lam**k)*((x)**(k-1))*exp(-lam*(x))/(scale*math.factorial(int(k)-1))\n",
    "    \n",
    "    mobilityList = np.asarray([i[0] for i in resistanceList if i[0] > 0.0])\n",
    "    \n",
    "    #n_bins = 60\n",
    "    #use the freedman-diaconis rule to calculate number of bins\n",
    "    #Under FD: h = 2*IQR*(n^(-1/3))\n",
    "    count, bins = np.histogram(mobilityList, 'fd')\n",
    "    centers = np.asarray([(i + bins[n])/2 for n, i in enumerate(bins[1:])])\n",
    "    \n",
    "    #normalize the count:\n",
    "    countTotal = sum(count)\n",
    "    normal_count = np.true_divide(count,countTotal)\n",
    "    \n",
    "    mean = np.mean(mobilityList)\n",
    "    \n",
    "    def lambdaAndScale(k, xs, ys):\n",
    "        def erlang(xs, lam,scale):\n",
    "            return (lam**k)*((xs)**(k-1))*exp(-lam*(xs))/(math.factorial(k-1)*scale)\n",
    "        popt, pcov = curve_fit(erlang, xs, ys)\n",
    "        errsqr = np.linalg.norm(erlang(xs, *popt) - ys)\n",
    "        return dict(errsqr=errsqr, floatcoef=popt)\n",
    "    \n",
    "    def errfun(k, *args):\n",
    "        xs, ys = args\n",
    "        return lambdaAndScale(k, xs, ys)['errsqr']\n",
    "\n",
    "    grid = [slice(2, 9, 1)]  # grid search over 1, 2, ..., 9\n",
    "    # it is important to specify finish=None in below\n",
    "    k = brute(errfun, grid, args=(centers, normal_count,), finish=None)\n",
    "    float_parameters = lambdaAndScale(k, centers, normal_count)['floatcoef']\n",
    "    _lambda = float_parameters[0]\n",
    "    scale = float_parameters[1]\n",
    "    \n",
    "    mean = k/_lambda\n",
    "    mode = 1/_lambda*(k-1)\n",
    "    variance = k/(_lambda**2)\n",
    "    std = math.sqrt(variance)\n",
    "    skewness = 2/math.sqrt(k)\n",
    "    \n",
    "    print('Mean is: %f'%mean)\n",
    "    print('Mode is: %f'%mode)\n",
    "    print('Variance is: %f'%variance)\n",
    "    print('Skewness is: %f'%skewness)\n",
    "    print('k is: %i'%k)\n",
    "    print('lambda is: %f'%_lambda)\n",
    "    \n",
    "    plt.plot(centers,countTotal*normal_count,'b+:',label='data')\n",
    "    plt.plot(np.asarray(centers),countTotal*erlangDist(np.asarray(centers),k,*float_parameters),'ro:',label='fit')\n",
    "    plt.title('Erlang Distribution')\n",
    "    plt.legend()\n",
    "    plt.grid()\n",
    "    plt.show()\n",
    "    \n",
    "    n = len(centers)\n",
    "    k_bic = 3\n",
    "    difArray= countTotal*normal_count - countTotal*erlangDist(np.asarray(centers),k,*float_parameters)\n",
    "    RSS = np.sum(difArray**2)\n",
    "    BIC = calculate_BIC(RSS,k_bic,n)\n",
    "    print('BIC is: %f'%BIC)"
   ]
  },
  {
   "cell_type": "code",
   "execution_count": 13,
   "metadata": {
    "collapsed": true
   },
   "outputs": [],
   "source": [
    "def kernelDensityEstimate(resistanceList):\n",
    "    from scipy.stats import gaussian_kde\n",
    "    def kde_scipy(x, x_grid, bandwidth=0.2, **kwargs):\n",
    "        \"\"\"Kernel Density Estimation with Scipy\"\"\"\n",
    "        # Note that scipy weights its bandwidth by the covariance of the\n",
    "        # input data.  To make the results comparable to the other methods,\n",
    "        # we divide the bandwidth by the sample standard deviation here.\n",
    "        kde = gaussian_kde(x, bw_method=bandwidth / x.std(ddof=1), **kwargs)\n",
    "        return kde.evaluate(x_grid)\n",
    "    \n",
    "    mobilityList = np.asarray([i[0] for i in resistanceList if i[0] > 0.0])\n",
    "    maxMobility = max(mobilityList)\n",
    "    minMobility = min(mobilityList)\n",
    "    mobility_grid = np.linspace(minMobility,maxMobility,1000)\n",
    "    \n",
    "    kernel_data = kde_scipy(mobilityList,mobility_grid,bandwidth = 0.2)\n",
    "    plt.plot(mobility_grid,kernel_data)\n",
    "    plt.xlabel(\"Mobility ($cm^{2}/Vs$)\")\n",
    "    plt.ylabel(\"Kernel Density Estimate\")\n",
    "    plt.title(\"Gaussian Kernel Density Estimation\")\n",
    "    plt.savefig('KDE.png', format='png', dpi=1200)\n",
    "    plt.show()\n",
    "    \n",
    "    y_array = np.asarray(kernel_data)\n",
    "    maxIndice = np.argmax(y_array)\n",
    "    mode = mobility_grid[maxIndice]\n",
    "    \n",
    "    product_array = np.multiply(mobility_grid, y_array)\n",
    "    y_sum = np.sum(y_array)\n",
    "    prod_sum = np.sum(product_array)\n",
    "    mean = prod_sum/y_sum\n",
    "    \n",
    "    stdArray = np.asarray([(i - mean)**2 for i in mobility_grid])\n",
    "    stdArray = np.multiply(y_array, stdArray)\n",
    "    N = np.sum(y_array)\n",
    "    std = math.sqrt(np.sum(stdArray)/(N-1))\n",
    "    #std = math.sqrt(stdArray/(len(stdArray)-1))\n",
    "        \n",
    "    std_mob = mobilityList.std()\n",
    "    std_mean = mobilityList.mean()\n",
    "    print(std_mob)\n",
    "    print(mean)\n",
    "    print(std)\n",
    "    print(std_mean)\n",
    "    \n",
    "    print(\"Mode is: %f $cm^{2}/Vs$\"%mode)\n",
    "    print(\"Mean is: %f +- %f\"%(std_mean, std_mob))\n",
    "    "
   ]
  },
  {
   "cell_type": "code",
   "execution_count": 14,
   "metadata": {
    "collapsed": true
   },
   "outputs": [],
   "source": [
    "def mobilityVsAngleRaw(resistanceList):\n",
    "    mobilities = np.asarray([i[0] for i in resistanceList])\n",
    "    angles = np.asarray([i[1] for i in resistanceList])\n",
    "    colors = np.random.rand(len(angles))\n",
    "    \n",
    "    plt.scatter(angles,mobilities,c = colors,alpha = 0.5)\n",
    "    plt.xlabel(\"Boundary Angle Counterclockwise (degrees)\")\n",
    "    plt.ylabel(\"Mobility ($cm^{2}/Vs$)\")\n",
    "    plt.savefig('mobility_vs_angle.png', format='png', dpi=1200)\n",
    "    plt.show()\n",
    "    \n",
    "    minAngle = np.min(angles)\n",
    "    maxAngle = np.max(angles)\n",
    "    stepSize = (maxAngle-minAngle)/10\n",
    "    meanList = []\n",
    "    stdList = []\n",
    "    \n",
    "    angleArray = np.arange(minAngle,maxAngle,step=stepSize)\n",
    "    \n",
    "    for j in angleArray:\n",
    "        currArray = np.asarray([i[0] for i in resistanceList if i[1] >= j and i[1] < j + stepSize])\n",
    "        meanList.append(currArray.mean())\n",
    "        stdList.append(currArray.std())\n",
    "        \n",
    "    plt.bar(np.add(angleArray,stepSize/2), np.asarray(meanList), width = 0.8*stepSize, color='c', yerr=np.asarray(stdList), capsize = 0.1*stepSize)\n",
    "    plt.xlabel(\"Angle\")\n",
    "    plt.ylabel(\"Mobility ($cm^{2}/Vs$)\")\n",
    "    plt.show()"
   ]
  },
  {
   "cell_type": "code",
   "execution_count": 144,
   "metadata": {
    "collapsed": true
   },
   "outputs": [],
   "source": [
    "def multiGausFit(undefectedList, grainList, twinList):\n",
    "    def gaus(x,a,x0,sigma):\n",
    "        return a*exp(-(x-x0)**2/(2*sigma**2))\n",
    "    \n",
    "    mobilityCutoff = 0.0\n",
    "    \n",
    "    undefectedArray = np.asarray([i[0] for i in undefectedList if i[0] > mobilityCutoff])\n",
    "    grainArray = np.asarray([i[0] for i in grainList if i[0] > mobilityCutoff])\n",
    "    twinArray = np.asarray([i[0] for i in twinList if i[0] > mobilityCutoff])\n",
    "    \n",
    "    meanUndefected = np.mean(undefectedArray)\n",
    "    sigmaUndefected = np.std(undefectedArray)\n",
    "    \n",
    "    meanGrain = np.mean(grainArray)\n",
    "    sigmaGrain = np.std(grainArray)\n",
    "    \n",
    "    meanTwin = np.mean(twinArray)\n",
    "    sigmaTwin = np.std(twinArray)\n",
    "    \n",
    "#     fig, (ax1, ax2, ax3) = plt.subplots(3,1, sharex = True)\n",
    "    \n",
    "#     #plot the undefected data\n",
    "#     count, bins = np.histogram(undefectedArray, 'fd')\n",
    "#     centers = [(i + bins[n])/2 for n, i in enumerate(bins[1:])]\n",
    "#     ax1.hist(undefectedArray,bins = len(centers), label = 'Data', color = 'steelblue') #ec = 'black'\n",
    "#     popt,pcov = curve_fit(gaus,centers,count,p0=[1,meanUndefected,sigmaUndefected])\n",
    "#     ax1.plot(centers,gaus(centers,*popt),'ko:',alpha = 0.8)\n",
    "#     ax1.set_ylabel(\"Count\")\n",
    "#     #ax1.set_xlabel(\"Mobility [cm$^2$V$^{-1}$s$^{-1}$]\")\n",
    "#     print(\"Gaussian mean undefected: \",popt[1])\n",
    "#     print(\"Gaussian σ undefected: \",popt[2])\n",
    "    \n",
    "#     #plot the grain data\n",
    "#     count, bins = np.histogram(grainArray, 'fd')\n",
    "#     centers = [(i + bins[n])/2 for n, i in enumerate(bins[1:])]\n",
    "#     ax2.hist(grainArray,bins = len(centers), label = 'Data', color = 'darkgreen') #ec = 'black'\n",
    "#     popt,pcov = curve_fit(gaus,centers,count,p0=[1,meanGrain,sigmaGrain])\n",
    "#     ax2.plot(centers,gaus(centers,*popt),'ko:',alpha = 0.8)\n",
    "#     #ax2.set_xlabel(\"Mobility [cm$^2$V$^{-1}$s$^{-1}$]\")\n",
    "#     ax2.set_ylabel(\"Count\")\n",
    "#     print(\"Gaussian mean grains: \",popt[1])\n",
    "#     print(\"Gaussian σ grains: \",popt[2])\n",
    "    \n",
    "#     #plot the twin data\n",
    "#     count, bins = np.histogram(twinArray, 'fd')\n",
    "#     centers = [(i + bins[n])/2 for n, i in enumerate(bins[1:])]\n",
    "#     ax3.hist(twinArray,bins = len(centers), label = 'Data', color = 'darkred') #ec = 'black'\n",
    "#     popt,pcov = curve_fit(gaus,centers,count,p0=[1,meanTwin,sigmaTwin])\n",
    "#     ax3.plot(centers,gaus(centers,*popt),'ko:',label='Gaussian Fit', alpha = 0.8)\n",
    "#     ax3.set_ylabel(\"Count\")\n",
    "#     print(\"Gaussian mean twins: \",popt[1])\n",
    "#     print(\"Gaussian σ twins: \",popt[2])\n",
    "    \n",
    "#     ax3.set_xlabel(\"Mobility [cm$^2$V$^{-1}$s$^{-1}$]\")\n",
    "#     #plt.tight_layout()\n",
    "#     fig.legend(loc='upper right', bbox_to_anchor=(0.95, 0.5))\n",
    "#     fig.savefig('TriDensMobilityFigure.png', format='png', dpi=1200)\n",
    "#     plt.show()\n",
    "    \n",
    "    fig, (ax1, ax2, ax3) = plt.subplots(3,1, sharex = True, figsize = (6,12))\n",
    "    #fig = plt.figure(figsize = (6,12),sharex = True)\n",
    "    fig.subplots_adjust(top = 0.98, bottom = 0.04, right = 0.98, hspace=0.1)\n",
    "    plt.rcParams[\"font.family\"] = 'sans-serif'\n",
    "    #plt.rc('font', family='serif')\n",
    "    #rc('font',**{'family':'serif','serif':['Computer Modern']})\n",
    "#     rc('font', **{'family': 'serif', 'serif': ['Computer Modern']})\n",
    "#     rc('text', usetex=True)\n",
    "    #fig.rcParams[\"font.family\"] = \"Times New Roman\"\n",
    "    \n",
    "    #plot the undefected data\n",
    "    #ax1 = fig.add_subplot(3,1,1)\n",
    "    #ax1.set_title(\"Undefected SLs Mobility Values\", fontsize = 14)\n",
    "    count, bins = np.histogram(undefectedArray, 'fd')\n",
    "    centers = [(i + bins[n])/2 for n, i in enumerate(bins[1:])]\n",
    "    ax1.hist(undefectedArray,bins = len(centers), color = 'steelblue', label = 'Undefected SLs', ec = 'black')\n",
    "    popt,pcov = curve_fit(gaus,centers,count,p0=[1,meanUndefected,sigmaUndefected])\n",
    "    #ax1.plot(centers,gaus(centers,*popt),'ko:',label = 'Gaussian Fit', alpha = 0.8)\n",
    "    ax1.set_ylabel(\"Count\", fontsize = 12)\n",
    "    #ax1.set_xlabel(\"Mobility [cm$^2$V$^{-1}$s$^{-1}$]\", fontsize = 12)\n",
    "    ax1.legend(loc = 'upper right', fontsize = 12)\n",
    "    ax1.set_ylim([0,350])\n",
    "    textString = r'$\\bar \\mu$ = {0:.2f}'.format(popt[1]) + \"\\n\" + \"$\\sigma$ = {0:.2f}\".format(popt[2])\n",
    "    ax1.text(0.69,200,textString,style = 'italic',fontsize = 12,bbox = {'facecolor':'white','pad':10})\n",
    "    ax1.text(0.01,325, \"(a)\", fontsize = 16)\n",
    "    ax1.set_xlim([0,0.9])\n",
    "    \n",
    "    #plot the grain boundary data\n",
    "    #ax2 = fig.add_subplot(3,1,2)\n",
    "    #ax2.set_title(\"Twin Plane SLs Mobility Values\",fontsize = 14)\n",
    "    count, bins = np.histogram(twinArray, 'fd')\n",
    "    centers = [(i + bins[n])/2 for n, i in enumerate(bins[1:])]\n",
    "    ax2.hist(twinArray,bins = len(centers), color = 'tab:orange', label = 'Twin Plane SLs', ec = 'black')\n",
    "    popt,pcov = curve_fit(gaus,centers,count,p0=[1,meanTwin,sigmaTwin])\n",
    "    #ax2.plot(centers,gaus(centers,*popt),'ko:', label = 'Gaussian Fit',alpha = 0.8)\n",
    "    ax2.set_ylabel(\"Count\", fontsize = 12)\n",
    "    #ax2.set_xlabel(\"Mobility [cm$^2$V$^{-1}$s$^{-1}$]\", fontsize = 12)\n",
    "    ax2.set_ylim([0,350])\n",
    "    ax2.legend(loc = 'upper right', fontsize = 12)\n",
    "    textString = r'$\\bar \\mu$ = {0:.2f}'.format(popt[1]) + \"\\n\" + \"$\\sigma$ = {0:.2f}\".format(popt[2])\n",
    "    ax2.text(0.69,200,textString,style = 'italic',fontsize = 12,bbox = {'facecolor':'white','pad':10})\n",
    "    ax2.text(0.01,325, \"(b)\", fontsize = 16)\n",
    "    ax2.set_xlim([0,0.85])\n",
    "    \n",
    "    #plot the twin plane data\n",
    "    #ax3 = fig.add_subplot(3,1,3)\n",
    "    #ax3.set_title(\"Grain Boundary SLs Mobility Values\",fontsize = 14)\n",
    "    count, bins = np.histogram(grainArray, 'fd')\n",
    "    centers = [(i + bins[n])/2 for n, i in enumerate(bins[1:])]\n",
    "    ax3.hist(grainArray,bins = len(centers), color = 'firebrick', label = 'Grain Boundary SLs', ec = 'black')\n",
    "    popt,pcov = curve_fit(gaus,centers,count,p0=[1,meanGrain,sigmaGrain])\n",
    "    #ax3.plot(centers,gaus(centers,*popt),'ko:',label = 'Gaussian Fit',alpha = 0.8)\n",
    "    ax3.set_ylabel(\"Count\", fontsize = 12)\n",
    "    ax3.set_xlabel(\"Mobility [cm$^2$V$^{-1}$s$^{-1}$]\", fontsize = 12)\n",
    "    ax3.set_ylim([0,350])\n",
    "    ax3.legend(loc = 'upper right', fontsize = 12)\n",
    "    textString = r'$\\bar \\mu$ = {0:.2f}'.format(popt[1]) + \"\\n\" + \"$\\sigma$ = {0:.2f}\".format(popt[2])\n",
    "    ax3.text(0.69,200,textString,style = 'italic',fontsize = 12,bbox = {'facecolor':'white','pad':10})\n",
    "    ax3.text(0.01,325, \"(c)\", fontsize = 16)\n",
    "    ax3.set_xlim([0,0.9])\n",
    "    \n",
    "    fig.savefig('TriDensMobilityFigure.png', format='png', dpi=300)\n",
    "    plt.show()\n",
    "    \n",
    "    fig, (ax1, ax2) = plt.subplots(2,1, sharex = True, figsize = (6,8))\n",
    "    fig.subplots_adjust(hspace = 0.1, top = 0.98, bottom = 0.04, right = 0.98)\n",
    "    #fig = plt.figure(figsize = (6,8))\n",
    "    #fig.subplots_adjust(top = 0.98, bottom = 0.04, right = 0.96, hspace=0.30)\n",
    "    #ax1 = fig.add_subplot(2,1,1)\n",
    "    ax1.hist(undefectedArray,bins = 'fd', color = 'steelblue',alpha = 0.51, label = \"Undefected SLs\", ec = 'black')\n",
    "    ax1.hist(twinArray,bins = 'fd', color = 'tab:orange', alpha = 0.51, label = \"Twin Plane SLs\", ec = 'black')\n",
    "    ax1.legend(loc = 'upper right')\n",
    "    ax1.set_ylabel(\"Count\", fontsize = 12)\n",
    "    ax1.set_ylim([0,350])\n",
    "    ax1.set_xlim([0,0.85])\n",
    "    \n",
    "    #fig.subplots_adjust(top = 0.98, bottom = 0.04, right = 0.96, hspace=0.30)\n",
    "    #ax2 = fig.add_subplot(2,1,2)\n",
    "    ax2.hist(undefectedArray,bins = 'fd', color = 'steelblue',alpha = 0.51, label = \"Undefected SLs\", ec = 'black')\n",
    "    ax2.hist(grainArray,bins = 'fd', color = 'firebrick', alpha = 0.51, label = \"Grain Boundary SLs\", ec = 'black')\n",
    "    ax2.set_ylim([0,350])\n",
    "    ax2.set_ylabel(\"Count\", fontsize = 12)\n",
    "    ax2.set_xlabel(\"Mobility [cm$^2$V$^{-1}$s$^{-1}$]\", fontsize = 12)\n",
    "    ax2.legend(loc = 'upper right')\n",
    "    ax2.set_xlim([0,0.85])\n",
    "    plt.show()\n",
    "    \n",
    "#     count, bins = np.histogram(undefectedArray, 'fd')\n",
    "#     centers = [(i + bins[n])/2 for n, i in enumerate(bins[1:])]\n",
    "#     popt,pcov = curve_fit(gaus,centers,count,p0=[1,meanUndefected,sigmaUndefected])\n",
    "#     plt.plot(centers,gaus(centers,*popt),'-.',color = 'steelblue', label = 'Undefected Data')\n",
    "#     plt.fill_between(centers, gaus(centers,*popt),color = 'steelblue', alpha = 0.51)\n",
    "    \n",
    "#     count, bins = np.histogram(twinArray, 'fd')\n",
    "#     centers = [(i + bins[n])/2 for n, i in enumerate(bins[1:])]\n",
    "#     popt,pcov = curve_fit(gaus,centers,count,p0=[1,meanTwin,sigmaTwin])\n",
    "#     plt.plot(centers,gaus(centers,*popt),'--',color = 'tab:orange', label = 'Twin Data')\n",
    "#     plt.fill_between(centers, gaus(centers,*popt),color = 'tab:orange', alpha = 0.51)\n",
    "    \n",
    "#     count, bins = np.histogram(grainArray, 'fd')\n",
    "#     centers = [(i + bins[n])/2 for n, i in enumerate(bins[1:])]\n",
    "#     popt,pcov = curve_fit(gaus,centers,count,p0=[1,meanGrain,sigmaGrain])\n",
    "#     plt.plot(centers,gaus(centers,*popt),'.',color = 'darkgreen', label = 'Grain Data')\n",
    "#     plt.fill_between(centers, gaus(centers,*popt),color = 'darkgreen', alpha = 0.51)\n",
    "#     plt.legend(loc = 'upper right')\n",
    "#     plt.show()\n",
    "    \n",
    "    \n",
    "    \n",
    "    #bar plot with multiple entries. Not great because bins are different for the three data sets\n",
    "#     plt.hist([undefectedArray, grainArray, twinArray],bins = 'fd', label = ['Undefected', 'Grains', 'Twins'], color = ['steelblue', 'darkgreen', 'darkred'])\n",
    "#     plt.legend(loc = 'upper right')\n",
    "#     plt.show()\n",
    "    "
   ]
  },
  {
   "cell_type": "code",
   "execution_count": 15,
   "metadata": {
    "collapsed": true
   },
   "outputs": [],
   "source": [
    "# for i in mobilityList:\n",
    "#     if i[0] > 2.0:\n",
    "#         print(\"Mobility: {} Angle: {}\".format(i[0], i[1]))"
   ]
  },
  {
   "cell_type": "code",
   "execution_count": 57,
   "metadata": {
    "collapsed": true
   },
   "outputs": [],
   "source": [
    "mobilityList = readInFiles()\n",
    "#mobilityList = readInFilesWithAngles()"
   ]
  },
  {
   "cell_type": "code",
   "execution_count": 7,
   "metadata": {
    "collapsed": true
   },
   "outputs": [],
   "source": [
    "undefectedList = readInFiles()\n",
    "grainList = readInFiles()\n",
    "twinList = readInFiles()"
   ]
  },
  {
   "cell_type": "code",
   "execution_count": 145,
   "metadata": {},
   "outputs": [
    {
     "data": {
      "image/png": "[encoded data removed]",
      "text/plain": [
       "<Figure size 432x864 with 3 Axes>"
      ]
     },
     "metadata": {},
     "output_type": "display_data"
    },
    {
     "data": {
      "image/png": "[encoded data removed]",
      "text/plain": [
       "<Figure size 432x576 with 2 Axes>"
      ]
     },
     "metadata": {},
     "output_type": "display_data"
    }
   ],
   "source": [
    "multiGausFit(undefectedList, grainList, twinList)"
   ]
  },
  {
   "cell_type": "code",
   "execution_count": 17,
   "metadata": {
    "collapsed": true
   },
   "outputs": [],
   "source": [
    "#bisectedList = [i for i in mobilityList if np.isclose(i[2],1)]\n",
    "#bisectedNonPerfect = [i for i in bisectedList if not np.isclose(i[1],9)]\n",
    "#bisectedPerfect = [i for i in bisectedList if np.isclose(i[1],9)]\n",
    "#nonBisectedList = [i for i in mobilityList if i[2] < 1]\n",
    "#bisected"
   ]
  },
  {
   "cell_type": "code",
   "execution_count": 58,
   "metadata": {},
   "outputs": [
    {
     "data": {
      "image/png": "[encoded data removed]",
      "text/plain": [
       "<Figure size 432x288 with 1 Axes>"
      ]
     },
     "metadata": {},
     "output_type": "display_data"
    },
    {
     "name": "stdout",
     "output_type": "stream",
     "text": [
      "Gaussian mean:  0.0907568606968\n",
      "Gaussian σ:  0.0476714159505\n"
     ]
    }
   ],
   "source": [
    "gausHistFit(mobilityList)"
   ]
  },
  {
   "cell_type": "code",
   "execution_count": null,
   "metadata": {
    "collapsed": true
   },
   "outputs": [],
   "source": [
    "applyBoxCoxTransform(mobilityList)"
   ]
  },
  {
   "cell_type": "code",
   "execution_count": null,
   "metadata": {
    "collapsed": true
   },
   "outputs": [],
   "source": [
    "lognormalDistFit(nonBisectedList)"
   ]
  },
  {
   "cell_type": "code",
   "execution_count": null,
   "metadata": {
    "collapsed": true
   },
   "outputs": [],
   "source": [
    "chiSquareDistFit(nonBisectedList)"
   ]
  },
  {
   "cell_type": "code",
   "execution_count": null,
   "metadata": {
    "collapsed": true
   },
   "outputs": [],
   "source": [
    "weibullFit(nonBisectedList)"
   ]
  },
  {
   "cell_type": "code",
   "execution_count": null,
   "metadata": {
    "collapsed": true
   },
   "outputs": [],
   "source": [
    "gammaDistFit(nonBisectedList)"
   ]
  },
  {
   "cell_type": "code",
   "execution_count": null,
   "metadata": {
    "collapsed": true
   },
   "outputs": [],
   "source": [
    "erlangDistFit(nonBisectedList)"
   ]
  },
  {
   "cell_type": "code",
   "execution_count": null,
   "metadata": {
    "collapsed": true
   },
   "outputs": [],
   "source": [
    "kernelDensityEstimate(mobilityList)"
   ]
  },
  {
   "cell_type": "code",
   "execution_count": null,
   "metadata": {
    "collapsed": true
   },
   "outputs": [],
   "source": [
    "mobilityVsAngleRaw(mobilityList)"
   ]
  },
  {
   "cell_type": "code",
   "execution_count": 146,
   "metadata": {},
   "outputs": [
    {
     "name": "stdout",
     "output_type": "stream",
     "text": [
      "$\\bar T$\n"
     ]
    }
   ],
   "source": [
    "text = r'$\\bar T$'\n",
    "print(text)"
   ]
  },
  {
   "cell_type": "code",
   "execution_count": 195,
   "metadata": {
    "collapsed": true
   },
   "outputs": [],
   "source": [
    "import matplotlib as mpl\n",
    "mpl.rcParams.update(mpl.rcParamsDefault)"
   ]
  },
  {
   "cell_type": "code",
   "execution_count": 12,
   "metadata": {},
   "outputs": [
    {
     "name": "stdout",
     "output_type": "stream",
     "text": [
      "C:\\Users\\Davis\\.matplotlib\n"
     ]
    }
   ],
   "source": [
    "import matplotlib.font_manager as mpltfm\n",
    "print(mpltfm.get_cachedir())"
   ]
  },
  {
   "cell_type": "code",
   "execution_count": null,
   "metadata": {
    "collapsed": true
   },
   "outputs": [],
   "source": []
  }
 ],
 "metadata": {
  "@webio": {
   "lastCommId": null,
   "lastKernelId": null
  },
  "kernelspec": {
   "display_name": "Python 3",
   "language": "python",
   "name": "python3"
  },
  "language_info": {
   "codemirror_mode": {
    "name": "ipython",
    "version": 3
   },
   "file_extension": ".py",
   "mimetype": "text/x-python",
   "name": "python",
   "nbconvert_exporter": "python",
   "pygments_lexer": "ipython3",
   "version": "3.6.3"
  }
 },
 "nbformat": 4,
 "nbformat_minor": 2
}
